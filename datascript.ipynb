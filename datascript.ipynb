{
 "cells": [
  {
   "cell_type": "code",
   "execution_count": 1,
   "metadata": {},
   "outputs": [],
   "source": [
    "import sqlite3\n"
   ]
  },
  {
   "cell_type": "code",
   "execution_count": 8,
   "metadata": {},
   "outputs": [],
   "source": [
    "connection = sqlite3.connect('db.sqlite3')\n",
    "\n"
   ]
  },
  {
   "cell_type": "code",
   "execution_count": 9,
   "metadata": {},
   "outputs": [],
   "source": [
    "cursor = connection.cursor()\n"
   ]
  },
  {
   "cell_type": "code",
   "execution_count": 10,
   "metadata": {},
   "outputs": [],
   "source": [
    "cursor.execute(\"SELECT * FROM zomato_restaurant Limit 10\")\n",
    "rows = cursor.fetchall()\n"
   ]
  },
  {
   "cell_type": "code",
   "execution_count": 11,
   "metadata": {},
   "outputs": [
    {
     "name": "stdout",
     "output_type": "stream",
     "text": [
      "Hey\n"
     ]
    }
   ],
   "source": [
    "print(\"Hey\")\n",
    "for row in rows:\n",
    "    print(row)"
   ]
  },
  {
   "cell_type": "code",
   "execution_count": 12,
   "metadata": {},
   "outputs": [],
   "source": [
    "import pandas as pd\n",
    "\n",
    "def insert_data_from_csv(cursor, csv_file):\n",
    "    count = 0\n",
    "    df = pd.read_csv(csv_file)\n",
    "    for _, row in df.iterrows():\n",
    "        if count == 10000:\n",
    "            break\n",
    "        count = count + 1\n",
    "        cursor.execute('''INSERT INTO zomato_restaurant (\n",
    "                            url, name, online_order, book_table, rate, votes,\n",
    "                            location, rest_type, cuisines, cost2plates, listed_in_type,\n",
    "                            area, ratings, reviews, count, sentiments, summaries,\n",
    "                            sentiment_label, index_f\n",
    "                        ) VALUES (?, ?, ?, ?, ?, ?, ?, ?, ?, ?, ?, ?, ?, ?, ?, ?, ?, ?, ?)''',\n",
    "                        (\n",
    "                            row['url'], row['name'], row['online_order'], row['book_table'],\n",
    "                            row['rate'], int(row['votes']), row['location'], row['rest_type'],\n",
    "                            row['cuisines'], float(row['cost2plates']), row['listed_in_type'],\n",
    "                            row['area'], row['ratings'], row['reviews'], int(row['count']),\n",
    "                            row['sentiments'], row['summaries'], row['sentiment_label'], int(row['index'])\n",
    "                        ))\n"
   ]
  },
  {
   "cell_type": "code",
   "execution_count": 13,
   "metadata": {},
   "outputs": [],
   "source": [
    "insert_data_from_csv(cursor, 'zomato_cleaned.csv')\n"
   ]
  },
  {
   "cell_type": "code",
   "execution_count": 14,
   "metadata": {},
   "outputs": [],
   "source": [
    "connection.commit()\n"
   ]
  },
  {
   "cell_type": "code",
   "execution_count": 15,
   "metadata": {},
   "outputs": [],
   "source": [
    "connection.close()\n"
   ]
  },
  {
   "cell_type": "code",
   "execution_count": 14,
   "metadata": {},
   "outputs": [
    {
     "name": "stdout",
     "output_type": "stream",
     "text": [
      "0\n",
      "1000\n",
      "2000\n",
      "3000\n",
      "4000\n",
      "5000\n",
      "6000\n",
      "7000\n",
      "8000\n",
      "9000\n",
      "10000\n",
      "11000\n",
      "12000\n",
      "13000\n",
      "14000\n",
      "15000\n",
      "16000\n",
      "17000\n",
      "18000\n",
      "19000\n",
      "20000\n",
      "21000\n",
      "22000\n",
      "23000\n",
      "24000\n",
      "25000\n",
      "26000\n",
      "27000\n",
      "28000\n",
      "29000\n",
      "30000\n",
      "31000\n",
      "32000\n",
      "33000\n",
      "34000\n",
      "35000\n",
      "36000\n",
      "37000\n",
      "38000\n",
      "39000\n",
      "40000\n",
      "41000\n",
      "42000\n",
      "43000\n"
     ]
    }
   ],
   "source": [
    "import pandas as pd\n",
    "import psycopg2\n",
    "\n",
    "def insert_data_from_csv(csv_file):\n",
    "    # Connect to PostgreSQL database\n",
    "    conn = psycopg2.connect(\n",
    "        dbname=\"restaurantlyy-database\",\n",
    "        user=\"admin_restaurantlyy\",\n",
    "        password=\"restaurantlyy@123\",\n",
    "        host=\"restaurantlyy-database-server.postgres.database.azure.com\",\n",
    "        port=\"5432\"\n",
    "    )\n",
    "    cursor = conn.cursor()\n",
    "\n",
    "    # Read CSV file into a pandas DataFrame\n",
    "    df = pd.read_csv(csv_file)\n",
    "    count = 0\n",
    "    # Iterate over each row in the DataFrame and insert data into PostgreSQL\n",
    "    for _, row in df.iterrows():\n",
    "        if count%1000 == 0 :\n",
    "            print(count)\n",
    "        count = count+1\n",
    "        cursor.execute('''INSERT INTO zomato_restaurant (\n",
    "                            url, name, online_order, book_table, rate, votes,\n",
    "                            location, rest_type, cuisines, cost2plates, listed_in_type,\n",
    "                            area, ratings, reviews, count, sentiments, summaries,\n",
    "                            sentiment_label, index_f\n",
    "                        ) VALUES (%s, %s, %s, %s, %s, %s, %s, %s, %s, %s, %s, %s, %s, %s, %s, %s, %s, %s, %s)''',\n",
    "                        (\n",
    "                            row['url'], row['name'], row['online_order'], row['book_table'],\n",
    "                            row['rate'], row['votes'], row['location'], row['rest_type'],\n",
    "                            row['cuisines'], row['cost2plates'], row['listed_in_type'],\n",
    "                            row['area'], row['ratings'], row['reviews'], row['count'],\n",
    "                            row['sentiments'], row['summaries'], row['sentiment_label'], row['index']\n",
    "                        ))\n",
    "\n",
    "    # Commit changes and close connection\n",
    "    conn.commit()\n",
    "    cursor.close()\n",
    "    conn.close()\n",
    "\n",
    "# Call the function with the CSV file path\n",
    "insert_data_from_csv('zomato_cleaned.csv')\n"
   ]
  },
  {
   "cell_type": "code",
   "execution_count": null,
   "metadata": {},
   "outputs": [],
   "source": []
  },
  {
   "cell_type": "code",
   "execution_count": null,
   "metadata": {},
   "outputs": [],
   "source": []
  },
  {
   "cell_type": "code",
   "execution_count": null,
   "metadata": {},
   "outputs": [],
   "source": []
  },
  {
   "cell_type": "code",
   "execution_count": null,
   "metadata": {},
   "outputs": [],
   "source": []
  }
 ],
 "metadata": {
  "kernelspec": {
   "display_name": "venv",
   "language": "python",
   "name": "python3"
  },
  "language_info": {
   "codemirror_mode": {
    "name": "ipython",
    "version": 3
   },
   "file_extension": ".py",
   "mimetype": "text/x-python",
   "name": "python",
   "nbconvert_exporter": "python",
   "pygments_lexer": "ipython3",
   "version": "3.11.5"
  }
 },
 "nbformat": 4,
 "nbformat_minor": 2
}
